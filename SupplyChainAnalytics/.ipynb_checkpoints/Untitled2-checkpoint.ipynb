{
 "cells": [
  {
   "cell_type": "code",
   "execution_count": 1,
   "id": "41d75641",
   "metadata": {},
   "outputs": [],
   "source": [
    "# Importação das bibliotecas\n",
    "import pandas as pd\n",
    "import numpy as np\n",
    "import matplotlib.pyplot as plt\n",
    "import seaborn as sns\n",
    "import pyspark\n",
    "from pyspark.sql import SparkSession\n",
    "from pyspark.sql.functions import col, when\n",
    "from pyspark.ml import Pipeline\n",
    "from pyspark.ml.feature import StringIndexer, VectorAssembler, MinMaxScaler\n",
    "from pyspark.ml.classification import DecisionTreeClassifier, RandomForestClassifier, GBTClassifier\n",
    "from pyspark.ml.evaluation import MulticlassClassificationEvaluator\n",
    "from pyspark.ml.tuning import ParamGridBuilder, CrossValidator\n",
    "from pyspark.sql.functions import count"
   ]
  },
  {
   "cell_type": "code",
   "execution_count": 5,
   "id": "591ccc63",
   "metadata": {},
   "outputs": [
    {
     "name": "stderr",
     "output_type": "stream",
     "text": [
      "25/02/21 02:21:57 WARN SparkSession: Using an existing Spark session; only runtime SQL configurations will take effect.\n"
     ]
    }
   ],
   "source": [
    "# Criando a SparkSession\n",
    "spark = SparkSession.builder \\\n",
    "    .appName(\"SupplyChainAnalysis\") \\\n",
    "    .config(\"spark.driver.memory\", \"8g\") \\\n",
    "    .config(\"spark.executor.memory\", \"4g\") \\\n",
    "    .config(\"spark.driver.maxResultSize\", \"2g\") \\\n",
    "    .config(\"spark.sql.shuffle.partitions\", \"50\") \\\n",
    "    .config(\"spark.memory.fraction\", \"0.6\") \\\n",
    "    .config(\"spark.memory.storageFraction\", \"0.4\") \\\n",
    "    .master(\"local[*]\") \\\n",
    "    .getOrCreate()"
   ]
  },
  {
   "cell_type": "code",
   "execution_count": null,
   "id": "16a89926",
   "metadata": {},
   "outputs": [],
   "source": [
    "# Carregando os dados\n",
    "dados = pd.read_csv(\"dados/DataCoSupplyChainDataset.csv\", encoding='latin1')"
   ]
  },
  {
   "cell_type": "code",
   "execution_count": null,
   "id": "bb985678",
   "metadata": {},
   "outputs": [],
   "source": [
    "# Criando uma feature nova: Atraso no envio\n",
    "dados['Shipping Delay'] = dados['Days for shipping (real)'] - dados['Days for shipment (scheduled)']"
   ]
  },
  {
   "cell_type": "code",
   "execution_count": null,
   "id": "0f60afea",
   "metadata": {},
   "outputs": [],
   "source": [
    "# Removendo colunas irrelevantes\n",
    "colunas_para_remover = [\n",
    "    'Product Status', 'Customer Password', 'Customer Email', 'Customer Street', 'Customer Fname', \n",
    "    'Customer Lname', 'Latitude', 'Longitude', 'Product Image', 'Product Description', \n",
    "    'Order Zipcode', 'shipping date (DateOrders)', 'Product Price', 'Category Id', 'Order Id', \n",
    "    'Product Category Id', 'Order Item Id', 'Product Card Id', 'Order Item Cardprod Id', \n",
    "    'Customer Id', 'Order Customer Id', 'Department Id', 'Customer Zipcode'\n",
    "]\n",
    "dados.drop(columns=colunas_para_remover, inplace=True)"
   ]
  },
  {
   "cell_type": "code",
   "execution_count": null,
   "id": "36412108",
   "metadata": {},
   "outputs": [],
   "source": [
    "# Tratamento de valores ausentes\n",
    "dados.fillna(dados.median(numeric_only=True), inplace=True)"
   ]
  },
  {
   "cell_type": "code",
   "execution_count": null,
   "id": "630393a5",
   "metadata": {},
   "outputs": [],
   "source": [
    "# Convertendo para Spark DataFrame\n",
    "df_spark = spark.createDataFrame(dados)"
   ]
  },
  {
   "cell_type": "code",
   "execution_count": null,
   "id": "b24bb933",
   "metadata": {},
   "outputs": [],
   "source": [
    "# Balanceamento de Classes (Oversampling para a classe minoritária)\n",
    "class_distribution = df_spark.groupBy(\"Late_delivery_risk\").count().collect()\n",
    "class_counts = {row[\"Late_delivery_risk\"]: row[\"count\"] for row in class_distribution}"
   ]
  },
  {
   "cell_type": "code",
   "execution_count": null,
   "id": "2d9d5903",
   "metadata": {},
   "outputs": [],
   "source": [
    "# Obtendo a classe majoritária\n",
    "max_count = max(class_counts.values())"
   ]
  },
  {
   "cell_type": "code",
   "execution_count": null,
   "id": "03b7df72",
   "metadata": {},
   "outputs": [],
   "source": [
    "# Criando DataFrames balanceados\n",
    "df_balanced = df_spark\n",
    "for classe, count in class_counts.items():\n",
    "    if count < max_count:\n",
    "        df_extra = df_spark.filter(col(\"Late_delivery_risk\") == classe)\n",
    "        df_extra = df_extra.sample(withReplacement=True, fraction=max_count / count)\n",
    "        df_balanced = df_balanced.union(df_extra)"
   ]
  },
  {
   "cell_type": "code",
   "execution_count": null,
   "id": "2d7d3549",
   "metadata": {},
   "outputs": [],
   "source": [
    "# Indexação de colunas categóricas\n",
    "categorical_cols = ['Delivery Status', 'Type', 'Category Name', 'Customer Segment', 'Department Name', 'Order Region', 'Market', 'Late_delivery_risk']\n",
    "indexers = [StringIndexer(inputCol=col, outputCol=col + \"_idx\", handleInvalid=\"keep\") for col in categorical_cols]"
   ]
  },
  {
   "cell_type": "code",
   "execution_count": null,
   "id": "53d0b665",
   "metadata": {},
   "outputs": [],
   "source": [
    "# Vetorização das features\n",
    "feature_cols = ['Type_idx', 'Days for shipping (real)', 'Order Region_idx', 'Customer Segment_idx', 'Department Name_idx', 'Shipping Delay']\n",
    "assembler = VectorAssembler(inputCols=feature_cols, outputCol='features')"
   ]
  },
  {
   "cell_type": "code",
   "execution_count": null,
   "id": "f5827b62",
   "metadata": {},
   "outputs": [],
   "source": [
    "# Normalização\n",
    "scaler = MinMaxScaler(inputCol=\"features\", outputCol=\"scaled_features\")"
   ]
  },
  {
   "cell_type": "code",
   "execution_count": null,
   "id": "01114c3e",
   "metadata": {},
   "outputs": [],
   "source": [
    "# Pipeline de pré-processamento\n",
    "pipeline = Pipeline(stages=indexers + [assembler, scaler])\n",
    "df_spark = pipeline.fit(df_balanced).transform(df_balanced)"
   ]
  },
  {
   "cell_type": "code",
   "execution_count": null,
   "id": "42d00942",
   "metadata": {},
   "outputs": [],
   "source": [
    "# Separação em treino e teste\n",
    "dados_treino, dados_teste = df_spark.randomSplit([0.8, 0.2], seed=42)"
   ]
  },
  {
   "cell_type": "code",
   "execution_count": null,
   "id": "62844a70",
   "metadata": {},
   "outputs": [],
   "source": [
    "# Avaliação\n",
    "evaluator = MulticlassClassificationEvaluator(labelCol='Late_delivery_risk_idx', predictionCol='prediction', metricName='accuracy')"
   ]
  },
  {
   "cell_type": "code",
   "execution_count": null,
   "id": "16ac4680",
   "metadata": {},
   "outputs": [],
   "source": [
    "# Modelo Decision Tree\n",
    "dt_model = DecisionTreeClassifier(labelCol='Late_delivery_risk_idx', featuresCol='scaled_features', impurity='gini')\n",
    "dt_modelo_treinado = dt_model.fit(dados_treino)\n",
    "dt_previsoes = dt_modelo_treinado.transform(dados_teste)\n",
    "print(f\"Acurácia Decision Tree: {evaluator.evaluate(dt_previsoes)}\")"
   ]
  },
  {
   "cell_type": "code",
   "execution_count": null,
   "id": "2dabdabc",
   "metadata": {},
   "outputs": [],
   "source": [
    "# Modelo Random Forest\n",
    "rf_model = RandomForestClassifier(labelCol='Late_delivery_risk_idx', featuresCol='scaled_features')"
   ]
  },
  {
   "cell_type": "code",
   "execution_count": null,
   "id": "2459181b",
   "metadata": {},
   "outputs": [],
   "source": [
    "paramGrid = (ParamGridBuilder()\n",
    "             .addGrid(rf_model.numTrees, [50, 100, 200])\n",
    "             .addGrid(rf_model.maxDepth, [5, 10, 15])\n",
    "             .addGrid(rf_model.maxBins, [32, 64])\n",
    "             .addGrid(rf_model.minInstancesPerNode, [1, 5, 10])\n",
    "             .addGrid(rf_model.featureSubsetStrategy, [\"auto\", \"sqrt\", \"log2\"])\n",
    "             .build())"
   ]
  },
  {
   "cell_type": "code",
   "execution_count": null,
   "id": "f5393e83",
   "metadata": {
    "scrolled": false
   },
   "outputs": [],
   "source": [
    "crossval = CrossValidator(estimator=rf_model, estimatorParamMaps=paramGrid, evaluator=evaluator, numFolds=3)"
   ]
  },
  {
   "cell_type": "code",
   "execution_count": null,
   "id": "dce108be",
   "metadata": {},
   "outputs": [],
   "source": [
    "cv_model = crossval.fit(dados_treino)"
   ]
  },
  {
   "cell_type": "code",
   "execution_count": null,
   "id": "4cf4d24a",
   "metadata": {},
   "outputs": [],
   "source": [
    "rf_previsoes = cv_model.transform(dados_teste)"
   ]
  },
  {
   "cell_type": "code",
   "execution_count": null,
   "id": "f71da614",
   "metadata": {},
   "outputs": [],
   "source": [
    "print(f\"Acurácia Random Forest: {evaluator.evaluate(rf_previsoes)}\")"
   ]
  },
  {
   "cell_type": "code",
   "execution_count": null,
   "id": "46328313",
   "metadata": {},
   "outputs": [],
   "source": [
    "# Modelo GBT (Gradient Boosted Trees)\n",
    "gbt = GBTClassifier(labelCol=\"Late_delivery_risk_idx\", featuresCol=\"scaled_features\", maxIter=100, maxDepth=10)"
   ]
  },
  {
   "cell_type": "code",
   "execution_count": null,
   "id": "d51a67b9",
   "metadata": {},
   "outputs": [],
   "source": [
    "gbt_model = gbt.fit(dados_treino)"
   ]
  },
  {
   "cell_type": "code",
   "execution_count": null,
   "id": "928c4509",
   "metadata": {},
   "outputs": [],
   "source": [
    "gbt_previsoes = gbt_model.transform(dados_teste)"
   ]
  },
  {
   "cell_type": "code",
   "execution_count": null,
   "id": "1ae589da",
   "metadata": {},
   "outputs": [],
   "source": [
    "print(f\"Acurácia GBTClassifier: {evaluator.evaluate(gbt_previsoes)}\")"
   ]
  },
  {
   "cell_type": "code",
   "execution_count": null,
   "id": "ef384bc7",
   "metadata": {},
   "outputs": [],
   "source": []
  }
 ],
 "metadata": {
  "kernelspec": {
   "display_name": "Python 3 (ipykernel)",
   "language": "python",
   "name": "python3"
  },
  "language_info": {
   "codemirror_mode": {
    "name": "ipython",
    "version": 3
   },
   "file_extension": ".py",
   "mimetype": "text/x-python",
   "name": "python",
   "nbconvert_exporter": "python",
   "pygments_lexer": "ipython3",
   "version": "3.11.11"
  }
 },
 "nbformat": 4,
 "nbformat_minor": 5
}
