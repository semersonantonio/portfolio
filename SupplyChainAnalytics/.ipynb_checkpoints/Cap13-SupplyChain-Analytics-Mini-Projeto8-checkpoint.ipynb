{
 "cells": [
  {
   "cell_type": "code",
   "execution_count": null,
   "metadata": {},
   "outputs": [],
   "source": [
    "# Imports\n",
    "import pandas as pd\n",
    "import numpy as np\n",
    "import matplotlib.pyplot as plt\n",
    "import seaborn as sns\n",
    "import pyspark\n",
    "from pyspark.sql import SparkSession\n",
    "from pyspark.ml.fpm import FPGrowth\n",
    "from pyspark.sql import SQLContext\n",
    "from pyspark.sql.functions import col, round\n",
    "from pyspark.ml import Pipeline\n",
    "from pyspark.ml.classification import DecisionTreeClassifier\n",
    "from pyspark.ml.feature import StringIndexer, VectorIndexer\n",
    "from pyspark.ml.evaluation import MulticlassClassificationEvaluator\n",
    "from pyspark.ml.linalg import Vectors\n",
    "from pyspark.ml.feature import VectorAssembler"
   ]
  },
  {
   "cell_type": "markdown",
   "metadata": {},
   "source": [
    "## Etapa 1 - Análise Exploratória"
   ]
  },
  {
   "cell_type": "markdown",
   "metadata": {},
   "source": [
    "### Carregando os Dados"
   ]
  },
  {
   "cell_type": "code",
   "execution_count": null,
   "metadata": {},
   "outputs": [],
   "source": [
    "# Carrega os dados\n",
    "dados = pd.read_csv(\"dados/DataCoSupplyChainDataset.csv\", encoding = 'latin1')"
   ]
  },
  {
   "cell_type": "code",
   "execution_count": null,
   "metadata": {},
   "outputs": [],
   "source": [
    "# Shape\n",
    "dados.shape"
   ]
  },
  {
   "cell_type": "code",
   "execution_count": null,
   "metadata": {},
   "outputs": [],
   "source": [
    "# Colunas\n",
    "dados.columns"
   ]
  },
  {
   "cell_type": "code",
   "execution_count": null,
   "metadata": {},
   "outputs": [],
   "source": [
    "# Amostra de dados\n",
    "dados.head()"
   ]
  },
  {
   "cell_type": "code",
   "execution_count": null,
   "metadata": {},
   "outputs": [],
   "source": [
    "# Info\n",
    "dados.info()"
   ]
  },
  {
   "cell_type": "code",
   "execution_count": null,
   "metadata": {},
   "outputs": [],
   "source": [
    "# Verificando valores ausentes\n",
    "dados.apply(lambda x: sum(x.isnull()))"
   ]
  },
  {
   "cell_type": "code",
   "execution_count": null,
   "metadata": {},
   "outputs": [],
   "source": [
    "# Criação de uma nova coluna para o nome do cliente adicionando colunas de nome e sobrenome do cliente\n",
    "dados['Customer Name'] = dados['Customer Fname'].astype(str) + dados['Customer Lname'].astype(str)"
   ]
  },
  {
   "cell_type": "code",
   "execution_count": null,
   "metadata": {},
   "outputs": [],
   "source": [
    "# Amostra de dados\n",
    "dados.head()"
   ]
  },
  {
   "cell_type": "code",
   "execution_count": null,
   "metadata": {},
   "outputs": [],
   "source": [
    "# Removendo colunas que parecem não ser necessárias\n",
    "dados = dados.drop(['Product Status',\n",
    "                    'Customer Password',\n",
    "                    'Customer Email',\n",
    "                    'Customer Street',\n",
    "                    'Customer Fname',\n",
    "                    'Customer Lname',\n",
    "                    'Latitude',\n",
    "                    'Longitude',\n",
    "                    'Product Image',\n",
    "                    'Product Description',\n",
    "                    'Order Zipcode',\n",
    "                    'shipping date (DateOrders)'],\n",
    "                   axis = 1)"
   ]
  },
  {
   "cell_type": "code",
   "execution_count": null,
   "metadata": {},
   "outputs": [],
   "source": [
    "# Shape\n",
    "dados.shape"
   ]
  },
  {
   "cell_type": "code",
   "execution_count": null,
   "metadata": {},
   "outputs": [],
   "source": [
    "# Vamos atribuir o valor zero para os valores ausentes da coluna 'Customer Zipcode'\n",
    "dados['Customer Zipcode'] = dados['Customer Zipcode'].fillna(0)"
   ]
  },
  {
   "cell_type": "code",
   "execution_count": null,
   "metadata": {},
   "outputs": [],
   "source": [
    "# Verificando valores ausentes\n",
    "dados.apply(lambda x: sum(x.isnull()))"
   ]
  },
  {
   "cell_type": "code",
   "execution_count": null,
   "metadata": {},
   "outputs": [],
   "source": [
    "# Tipos de dados\n",
    "dados.dtypes"
   ]
  },
  {
   "cell_type": "code",
   "execution_count": null,
   "metadata": {},
   "outputs": [],
   "source": [
    "# Seleciona apenas colunas numéricas\n",
    "df_numerico = dados.select_dtypes(include=['number'])\n",
    "\n"
   ]
  },
  {
   "cell_type": "code",
   "execution_count": null,
   "metadata": {},
   "outputs": [],
   "source": [
    "# Gerar o heatmap\n",
    "fig, ax = plt.subplots(figsize=(18, 8))\n",
    "sns.heatmap(df_numerico.corr(), annot=True, linewidths=.5, fmt='.1g', cmap='Purples')\n",
    "plt.show()"
   ]
  },
  {
   "cell_type": "markdown",
   "metadata": {},
   "source": [
    "> De acordo com a Matriz de Correlação, podemos ver que o preço do produto tem uma alta correlação com as vendas, total do item do pedido e vendas por cliente. Vamos explorar melhor os dados."
   ]
  },
  {
   "cell_type": "markdown",
   "metadata": {},
   "source": [
    "### Vendas Por Região"
   ]
  },
  {
   "cell_type": "code",
   "execution_count": null,
   "metadata": {},
   "outputs": [],
   "source": [
    "# Agrupa os dados por continente\n",
    "grupo_mercado = dados.groupby('Market')"
   ]
  },
  {
   "cell_type": "code",
   "execution_count": null,
   "metadata": {},
   "outputs": [],
   "source": [
    "# Plot\n",
    "plt.figure(1)\n",
    "grupo_mercado['Sales per customer'].sum().sort_values(ascending = False).plot.bar(figsize = (18,8), \n",
    "                                                                                  color  = ['blue'], \n",
    "                                                                                  title = \"Vendas Por Continente\")"
   ]
  },
  {
   "cell_type": "markdown",
   "metadata": {},
   "source": [
    "Pelo gráfico acima podemos observar que o mercado europeu tem o maior número de vendas enquanto que a África apresenta o menor número de vendas."
   ]
  },
  {
   "cell_type": "code",
   "execution_count": null,
   "metadata": {},
   "outputs": [],
   "source": [
    "# Agrupa por Order Region\n",
    "grupo_regiao = dados.groupby('Order Region')"
   ]
  },
  {
   "cell_type": "code",
   "execution_count": null,
   "metadata": {},
   "outputs": [],
   "source": [
    "# Plot\n",
    "plt.figure(2)\n",
    "grupo_regiao['Sales per customer'].sum().sort_values(ascending = False).plot.bar(figsize = (18,8), \n",
    "                                                                                 color = ['green'], \n",
    "                                                                                 title = \"Vendas Por Região\")"
   ]
  },
  {
   "cell_type": "markdown",
   "metadata": {},
   "source": [
    "No gráfico acima podemos ver que a região da Europa Ocidental e a região da América Central registraram o maior volume de vendas, enquanto a Ásia Central registrou o menor volume de vendas."
   ]
  },
  {
   "cell_type": "markdown",
   "metadata": {},
   "source": [
    "### Vendas Por Produto"
   ]
  },
  {
   "cell_type": "code",
   "execution_count": null,
   "metadata": {},
   "outputs": [],
   "source": [
    "# Agrupa os dados por categoria\n",
    "categoria = dados.groupby('Category Name')"
   ]
  },
  {
   "cell_type": "code",
   "execution_count": null,
   "metadata": {},
   "outputs": [],
   "source": [
    "# Plot\n",
    "plt.figure(1)\n",
    "categoria['Sales per customer'].sum().sort_values(ascending = False).plot.bar(figsize = (18,8), \n",
    "                                                                              color = ['magenta'], \n",
    "                                                                              title = \"Vendas por Categoria\")"
   ]
  },
  {
   "cell_type": "markdown",
   "metadata": {},
   "source": [
    "Pelo gráfico acima podemos verificar que material de pesca tem o maior número de vendas seguido de chuteiras."
   ]
  },
  {
   "cell_type": "code",
   "execution_count": null,
   "metadata": {},
   "outputs": [],
   "source": [
    "# Vejamos a média de vendas por categoria\n",
    "plt.figure(2)\n",
    "categoria['Sales per customer'].mean().sort_values(ascending = False).plot.bar(figsize = (18,8), \n",
    "                                                                               color = ['brown'],\n",
    "                                                                               title = \"Média de Vendas Por Categoria\")"
   ]
  },
  {
   "cell_type": "code",
   "execution_count": null,
   "metadata": {},
   "outputs": [],
   "source": [
    "# Preço Médio de venda por categoria\n",
    "plt.figure(3)\n",
    "categoria['Product Price'].mean().sort_values(ascending = False).plot.bar(figsize = (18,8), \n",
    "                                                                          color = ['cyan'], \n",
    "                                                                          title = \"Preço Médio Por Categoria\")"
   ]
  },
  {
   "cell_type": "markdown",
   "metadata": {},
   "source": [
    "Podemos observar que os produtos com os preços mais altos, em média, são os que têm, em média, maior volume de vendas. Os computadores vendem cerca de 1.400 unidades, apesar do preço médio de um computador estar perto de US$ 1.500.\n",
    "\n",
    "Qual será a relação entre preço do produto e unidades vendidas? Vamos descobrir."
   ]
  },
  {
   "cell_type": "code",
   "execution_count": null,
   "metadata": {},
   "outputs": [],
   "source": [
    "# Plot\n",
    "dados.plot(x = 'Product Price', \n",
    "           y = 'Sales per customer',\n",
    "           linestyle = 'dotted',\n",
    "           markerfacecolor = 'blue', \n",
    "           markersize = 12, \n",
    "           color = ['green'], \n",
    "           figsize = (18,8)) \n",
    "plt.title('Preço do Produto x Unidades Vendidas')\n",
    "plt.xlabel('Preço do Produto')\n",
    "plt.ylabel('Unidades Vendidas') \n",
    "plt.show()"
   ]
  },
  {
   "cell_type": "markdown",
   "metadata": {},
   "source": [
    "Como você pode ver no gráfico acima, o preço do produto tem uma relação linear com as unidades vendidas."
   ]
  },
  {
   "cell_type": "code",
   "execution_count": null,
   "metadata": {},
   "outputs": [],
   "source": [
    "# Vamos salvar os dados processados até aqui\n",
    "dados.to_csv(\"dados/DataCoSupplyChainDatasetProcessados.csv\")"
   ]
  },
  {
   "cell_type": "markdown",
   "metadata": {},
   "source": [
    "## Etapa 2 - Regras de Associação"
   ]
  },
  {
   "cell_type": "markdown",
   "metadata": {},
   "source": [
    "As Regras de Associação representam um dos conceitos mais importantes de aprendizado de máquina usado principalmente na análise de cesta de compras. Ou seja, precisamoos de dados de vendas de produtos.\n",
    "\n",
    "Em uma loja (ou portal de e-commerce), todos os vegetais são colocados no mesmo corredor, todos os laticínios são colocados juntos e os cosméticos formam outro conjunto desses grupos. \n",
    "\n",
    "Investir tempo e recursos em posicionamentos deliberados de produtos não apenas reduz o tempo de compra do cliente, mas também lembra o cliente de quais itens relevantes ele pode estar interessado em comprar, ajudando assim as lojas a fazerem vendas cruzadas no processo. Outra vantagem é na cadeia de suprimentos, pois os sistemas de entrega podem ser adaptados e personalizados ao padrão de compra dos clientes.\n",
    "\n",
    "As Regras de Associação ajudam a descobrir todas essas relações entre itens de bancos de dados imensos. Uma coisa importante a se notar é que as Regras de Associação não extraem a preferência de um indivíduo, em vez disso, encontram relações entre um conjunto de elementos de cada transação distinta. Isso é o que os torna diferentes da filtragem colaborativa, por exemplo."
   ]
  },
  {
   "cell_type": "code",
   "execution_count": null,
   "metadata": {},
   "outputs": [],
   "source": [
    "# Carregamos os dados processados e seguimos com o trabalho de análise\n",
    "dados = pd.read_csv(\"dados/DataCoSupplyChainDatasetProcessados.csv\", encoding = 'latin1')"
   ]
  },
  {
   "cell_type": "code",
   "execution_count": null,
   "metadata": {},
   "outputs": [],
   "source": [
    "# Visualiza\n",
    "dados.tail()"
   ]
  },
  {
   "cell_type": "code",
   "execution_count": null,
   "metadata": {},
   "outputs": [],
   "source": [
    "# Clientes únicos\n",
    "dados['Customer Name'].unique()"
   ]
  },
  {
   "cell_type": "code",
   "execution_count": null,
   "metadata": {},
   "outputs": [],
   "source": [
    "# Vamos associar clientes e produtos\n",
    "df = dados.copy()\n",
    "df = df[['Customer Name', 'Product Name']]\n",
    "df = df.drop_duplicates(['Customer Name', 'Product Name'])\n",
    "df = df.groupby('Customer Name')['Product Name'].apply(list).reset_index(name = \"Products\")"
   ]
  },
  {
   "cell_type": "code",
   "execution_count": null,
   "metadata": {},
   "outputs": [],
   "source": [
    "# Visualiza\n",
    "df.head()"
   ]
  },
  {
   "cell_type": "markdown",
   "metadata": {},
   "source": [
    "Vamos converter o dataframe pandas para dataframe Spark."
   ]
  },
  {
   "cell_type": "code",
   "execution_count": null,
   "metadata": {},
   "outputs": [],
   "source": [
    "type(df)"
   ]
  },
  {
   "cell_type": "code",
   "execution_count": null,
   "metadata": {},
   "outputs": [],
   "source": [
    "# Cria sessão Spark\n",
    "spark = SparkSession.builder.master(\"local\").appName(\"DSA\").config('spark.ui.port', '4050').getOrCreate()"
   ]
  },
  {
   "cell_type": "code",
   "execution_count": null,
   "metadata": {},
   "outputs": [],
   "source": [
    "# Sessão\n",
    "spark"
   ]
  },
  {
   "cell_type": "code",
   "execution_count": null,
   "metadata": {},
   "outputs": [],
   "source": [
    "# Cria o SQL Context\n",
    "sqlContext = SQLContext(spark)"
   ]
  },
  {
   "cell_type": "code",
   "execution_count": null,
   "metadata": {},
   "outputs": [],
   "source": [
    "# Converte o dataframe\n",
    "df_spark_frame = sqlContext.createDataFrame(df)"
   ]
  },
  {
   "cell_type": "code",
   "execution_count": null,
   "metadata": {},
   "outputs": [],
   "source": [
    "type(df_spark_frame)"
   ]
  },
  {
   "cell_type": "code",
   "execution_count": null,
   "metadata": {},
   "outputs": [],
   "source": [
    "df_spark_frame"
   ]
  },
  {
   "cell_type": "code",
   "execution_count": null,
   "metadata": {},
   "outputs": [],
   "source": [
    "df_spark_frame.show(5)"
   ]
  },
  {
   "cell_type": "markdown",
   "metadata": {},
   "source": [
    "### Aplicando o Algoritmo Frequent Pattern Mining\n",
    "\n",
    "https://spark.apache.org/docs/latest/ml-frequent-pattern-mining.html"
   ]
  },
  {
   "cell_type": "code",
   "execution_count": null,
   "metadata": {},
   "outputs": [],
   "source": [
    "# Crie o objeto fpGrowth instanciando o construtor FPGrowth com os parâmetros necessários\n",
    "fpGrowth = FPGrowth(itemsCol = \"Products\", minSupport = 0.015, minConfidence = 0.35)"
   ]
  },
  {
   "cell_type": "code",
   "execution_count": null,
   "metadata": {},
   "outputs": [],
   "source": [
    "# Ajusta o dataframe no objeto fpGrowth para preparar o modelo\n",
    "modelo = fpGrowth.fit(df_spark_frame)"
   ]
  },
  {
   "cell_type": "code",
   "execution_count": null,
   "metadata": {},
   "outputs": [],
   "source": [
    "modelo"
   ]
  },
  {
   "cell_type": "code",
   "execution_count": null,
   "metadata": {},
   "outputs": [],
   "source": [
    "# Exibir os itens que ocorrem com mais frequência\n",
    "modelo.freqItemsets.sort('freq', ascending = False).show(truncate = False)"
   ]
  },
  {
   "cell_type": "code",
   "execution_count": null,
   "metadata": {},
   "outputs": [],
   "source": [
    "# Mostra as regras de associação geradas\n",
    "modelo.associationRules\\\n",
    ".withColumn(\"confidence\", round(col(\"confidence\"), 3))\\\n",
    ".withColumn(\"lift\", round(col(\"lift\"), 3))\\\n",
    ".withColumn(\"support\", round(col(\"support\"),10))\\\n",
    ".sort('confidence', ascending = False)\\\n",
    ".show(truncate = True)"
   ]
  },
  {
   "cell_type": "markdown",
   "metadata": {},
   "source": [
    "**Support** (Suporte)\n",
    "\n",
    "Esta medida dá uma ideia da frequência de um conjunto de itens em todas as transações. Exemplo:\n",
    "\n",
    "Considere itemset1 = {Pão, Manteiga} e itemset2 = {Pão, Shampoo}. \n",
    "\n",
    "Haverá muito mais transações contendo Pão e Manteiga do que contendo Pão e Shampoo. Logo, itemset1 geralmente terá um suporte maior do que itemset2. \n",
    "\n",
    "Matematicamente, o suporte é a fração do número total de transações nas quais o conjunto de itens ocorre. O valor do suporte nos ajuda a identificar as regras que vale a pena considerar para uma análise posterior. \n",
    "\n",
    "![title](imagens/support.png)\n",
    "\n",
    "Por exemplo, pode-se querer considerar apenas os conjuntos de itens que ocorrem pelo menos 50 vezes de um total de 10.000 transações, ou seja, nesse caso suporte = 0,005. \n",
    "\n",
    "Se um conjunto de itens tiver um suporte muito baixo, não temos informações suficientes sobre a relação entre seus itens e, portanto, nenhuma conclusão pode ser tirada de tal regra."
   ]
  },
  {
   "cell_type": "markdown",
   "metadata": {},
   "source": [
    "**Confidence** (Confiança)\n",
    "\n",
    "Essa medida define a probabilidade de ocorrência de consequentes no carrinho, uma vez que o carrinho já possui os antecedentes. \n",
    "\n",
    "Essa medida é usada para responder à pergunta: De todas as transações contendo {Manteiga}, quantas também tinham {Pão}? Podemos dizer que é de conhecimento comum que {Manteiga} → {Pão} deve ser uma regra de alta confiança. \n",
    "\n",
    "Tecnicamente, a confiança é a probabilidade condicional de ocorrência do consequente dado o antecedente. \n",
    "\n",
    "Matematicamente:\n",
    "\n",
    "![title](imagens/confidence.png)\n",
    "\n",
    "Não importa o que você tenha no antecedente para um consequente tão frequente. A confiança para uma regra de associação com um consequente muito frequente sempre será alta."
   ]
  },
  {
   "cell_type": "markdown",
   "metadata": {},
   "source": [
    "**Lift** (Elevação)\n",
    "\n",
    "O lift é o controle para o suporte (frequência) do consequente enquanto calcula a probabilidade condicional de ocorrência de {Y} dado {X}. Pense nisso como o *aumento* que {X} proporciona à nossa confiança por ter {Y} no carrinho. \n",
    "\n",
    "Para reformular, lift é o aumento na probabilidade de ter {Y} no carrinho com o conhecimento de {X} estar presente sobre a probabilidade de ter {Y} no carrinho sem nenhum conhecimento sobre a presença de {X}.\n",
    "\n",
    "Matematicamente:\n",
    "\n",
    "![title](imagens/lift.png)\n",
    "\n",
    "Nos casos em que {X} realmente leva a {Y} no carrinho, o valor do lift será maior que 1. Um valor de lift menor que 1 mostra que ter X no carrinho não aumenta as chances de ocorrência de Y no carrinho, apesar da regra mostrar um alto valor de confiança. \n",
    "\n",
    "Um valor de lift maior que 1 atesta a alta associação entre {Y} e {X}. Maior o valor do lift, maiores são as chances para comprar {Y} se o cliente já comprou {X}. O lift é a medida que ajudará os gerentes a decidir a colocação de produtos no corredor ou site de e-commerce."
   ]
  },
  {
   "cell_type": "markdown",
   "metadata": {},
   "source": [
    "## Etapa 3 - Modelagem Preditiva"
   ]
  },
  {
   "cell_type": "code",
   "execution_count": null,
   "metadata": {},
   "outputs": [],
   "source": [
    "del(dados)"
   ]
  },
  {
   "cell_type": "code",
   "execution_count": null,
   "metadata": {},
   "outputs": [],
   "source": [
    "# Carregamos os dados processados e seguimos com o trabalho de análise\n",
    "dados = pd.read_csv(\"dados/DataCoSupplyChainDatasetProcessados.csv\", encoding = 'latin1')"
   ]
  },
  {
   "cell_type": "code",
   "execution_count": null,
   "metadata": {},
   "outputs": [],
   "source": [
    "# Shape\n",
    "dados.shape"
   ]
  },
  {
   "cell_type": "code",
   "execution_count": null,
   "metadata": {},
   "outputs": [],
   "source": [
    "# Colunas\n",
    "dados.columns"
   ]
  },
  {
   "cell_type": "code",
   "execution_count": null,
   "metadata": {},
   "outputs": [],
   "source": [
    "# Total de registros pelo tipo de pagamento usado na compra\n",
    "dados['Type'].value_counts()"
   ]
  },
  {
   "cell_type": "code",
   "execution_count": null,
   "metadata": {},
   "outputs": [],
   "source": [
    "# Total de registros pelo risco de atraso na entrega (variável target)\n",
    "dados['Late_delivery_risk'].value_counts()"
   ]
  },
  {
   "cell_type": "code",
   "execution_count": null,
   "metadata": {},
   "outputs": [],
   "source": [
    "# Total de compras por cliente\n",
    "dados['Customer Name'].value_counts() "
   ]
  },
  {
   "cell_type": "code",
   "execution_count": null,
   "metadata": {},
   "outputs": [],
   "source": [
    "# Total de registros pelo número de dias de envio\n",
    "dados['Days for shipment (scheduled)'].value_counts()"
   ]
  },
  {
   "cell_type": "code",
   "execution_count": null,
   "metadata": {},
   "outputs": [],
   "source": [
    "# Total de registros por região\n",
    "dados['Order Region'].value_counts()"
   ]
  },
  {
   "cell_type": "code",
   "execution_count": null,
   "metadata": {},
   "outputs": [],
   "source": [
    "# Total de registros pelo modo de envio\n",
    "dados['Shipping Mode'].value_counts()"
   ]
  },
  {
   "cell_type": "code",
   "execution_count": null,
   "metadata": {},
   "outputs": [],
   "source": [
    "# Removemos colunas que não serão usadas\n",
    "dados = dados.drop(['Product Price',\n",
    "                    'Category Id',\n",
    "                    'Order Id',\n",
    "                    'Product Category Id',\n",
    "                    'Order Item Id',\n",
    "                    'Product Card Id',\n",
    "                    'Order Item Cardprod Id',\n",
    "                    'Customer Id',\n",
    "                    'Order Customer Id',\n",
    "                    'Department Id',\n",
    "                    'Customer Zipcode'],\n",
    "                   axis = 1)"
   ]
  },
  {
   "cell_type": "code",
   "execution_count": null,
   "metadata": {},
   "outputs": [],
   "source": [
    "# Shape\n",
    "dados.shape"
   ]
  },
  {
   "cell_type": "code",
   "execution_count": null,
   "metadata": {},
   "outputs": [],
   "source": [
    "# Visualiza\n",
    "dados.head()"
   ]
  },
  {
   "cell_type": "code",
   "execution_count": null,
   "metadata": {},
   "outputs": [],
   "source": [
    "# Correlação\n",
    "dados_numericos = dados.select_dtypes(include=['number'])"
   ]
  },
  {
   "cell_type": "code",
   "execution_count": null,
   "metadata": {},
   "outputs": [],
   "source": [
    "fig, ax = plt.subplots(figsize = (18,8))    \n",
    "sns.heatmap(dados_numericos.corr(), annot=True, linewidths=.5, fmt='.1g', cmap='Purples')"
   ]
  },
  {
   "cell_type": "code",
   "execution_count": null,
   "metadata": {},
   "outputs": [],
   "source": [
    "# Drop de colunas\n",
    "dados = dados.drop(['Unnamed: 0', 'Order Item Discount Rate'], axis = 1)"
   ]
  },
  {
   "cell_type": "code",
   "execution_count": null,
   "metadata": {},
   "outputs": [],
   "source": [
    "# Correlação\n",
    "dados_numericos = dados.select_dtypes(include=['number'])"
   ]
  },
  {
   "cell_type": "code",
   "execution_count": null,
   "metadata": {},
   "outputs": [],
   "source": [
    "# Correlação\n",
    "fig, ax = plt.subplots(figsize = (18,8))    \n",
    "sns.heatmap(dados_numericos.corr(), annot = True, linewidths = .5, fmt = '.1g', cmap = 'Reds') "
   ]
  },
  {
   "cell_type": "markdown",
   "metadata": {},
   "source": [
    "### Criação e Avaliação do Modelo"
   ]
  },
  {
   "cell_type": "code",
   "execution_count": null,
   "metadata": {},
   "outputs": [],
   "source": [
    "# Sessão\n",
    "spark = SparkSession.builder.appName(\"Modelo_DSA\").getOrCreate()"
   ]
  },
  {
   "cell_type": "code",
   "execution_count": null,
   "metadata": {},
   "outputs": [],
   "source": [
    "# Converte o dataframe do pandas para dataframe do Spark\n",
    "df_suppply_chain = spark.createDataFrame(dados) "
   ]
  },
  {
   "cell_type": "code",
   "execution_count": null,
   "metadata": {},
   "outputs": [],
   "source": [
    "# Visualiza\n",
    "df_suppply_chain.show(5)"
   ]
  },
  {
   "cell_type": "code",
   "execution_count": null,
   "metadata": {},
   "outputs": [],
   "source": [
    "# Tipos de dados\n",
    "df_suppply_chain.dtypes"
   ]
  },
  {
   "cell_type": "code",
   "execution_count": null,
   "metadata": {},
   "outputs": [],
   "source": [
    "# Cria uma lista para converter as strings para o tipo double (encoding) e criar o indexador \n",
    "indexers = [StringIndexer(inputCol = \"Delivery Status\", outputCol = \"Status\"), \n",
    "            StringIndexer(inputCol = \"Type\", outputCol = \"type\"), \n",
    "            StringIndexer(inputCol = \"Category Name\", outputCol = \"Category_Name\"), \n",
    "            StringIndexer(inputCol = \"Customer Segment\", outputCol = \"Customer_Segment\"), \n",
    "            StringIndexer(inputCol = \"Department Name\", outputCol = \"Department_Name\"),\n",
    "            StringIndexer(inputCol = \"Late_delivery_risk\", outputCol = \"Risk\", stringOrderType = 'frequencyAsc'),\n",
    "            StringIndexer(inputCol = \"Order Region\", outputCol = \"region\"),\n",
    "            StringIndexer(inputCol = \"Market\", outputCol = \"market\")]"
   ]
  },
  {
   "cell_type": "code",
   "execution_count": null,
   "metadata": {},
   "outputs": [],
   "source": [
    "type(indexers)"
   ]
  },
  {
   "cell_type": "code",
   "execution_count": null,
   "metadata": {},
   "outputs": [],
   "source": [
    "# Cria o pipeline\n",
    "pipeline = Pipeline(stages = indexers)"
   ]
  },
  {
   "cell_type": "code",
   "execution_count": null,
   "metadata": {},
   "outputs": [],
   "source": [
    "type(pipeline)"
   ]
  },
  {
   "cell_type": "code",
   "execution_count": null,
   "metadata": {},
   "outputs": [],
   "source": [
    "# Fit e transform do pipeline\n",
    "indexed_df_suppply_chain = pipeline.fit(df_suppply_chain).transform(df_suppply_chain) "
   ]
  },
  {
   "cell_type": "code",
   "execution_count": null,
   "metadata": {},
   "outputs": [],
   "source": [
    "type(indexed_df_suppply_chain)"
   ]
  },
  {
   "cell_type": "code",
   "execution_count": null,
   "metadata": {},
   "outputs": [],
   "source": [
    "# Visualiza\n",
    "indexed_df_suppply_chain.show(5, False)"
   ]
  },
  {
   "cell_type": "code",
   "execution_count": null,
   "metadata": {},
   "outputs": [],
   "source": [
    "# Cria a coluna de features (atributos) que serão indexadas\n",
    "# Nota: Essas são as variáveis de entrada\n",
    "vectorAssembler = VectorAssembler(inputCols = ['type',\n",
    "                                               'Days for shipping (real)',\n",
    "                                               'region',\n",
    "                                               'Customer_Segment',\n",
    "                                               'Department_Name'],\n",
    "                                  outputCol = \"features\")"
   ]
  },
  {
   "cell_type": "code",
   "execution_count": null,
   "metadata": {},
   "outputs": [],
   "source": [
    "type(vectorAssembler)"
   ]
  },
  {
   "cell_type": "code",
   "execution_count": null,
   "metadata": {},
   "outputs": [],
   "source": [
    "# Cria o dataframe\n",
    "vindexed_df_suppply_chain = vectorAssembler.transform(indexed_df_suppply_chain)"
   ]
  },
  {
   "cell_type": "code",
   "execution_count": null,
   "metadata": {},
   "outputs": [],
   "source": [
    "# Visualiza\n",
    "vindexed_df_suppply_chain.show(5, False)"
   ]
  },
  {
   "cell_type": "code",
   "execution_count": null,
   "metadata": {},
   "outputs": [],
   "source": [
    "# Drop de colunas não usadas\n",
    "vindexed_df_suppply_chain = vindexed_df_suppply_chain.drop('type',\n",
    "                                                           'Days for shipping (real)',\n",
    "                                                           'Days for shipment (scheduled)',\n",
    "                                                           'Sales per customer',\n",
    "                                                           'Benefit per order',\n",
    "                                                           'Status',\n",
    "                                                           'ship_mode',\n",
    "                                                           'Customer Segment',\n",
    "                                                           'Customer City',\n",
    "                                                           'Delivery Status',\n",
    "                                                           'Category Name',\n",
    "                                                           'Category_Name',\n",
    "                                                           'Customer_Segment',\n",
    "                                                           'Department_Name',\n",
    "                                                           'market')"
   ]
  },
  {
   "cell_type": "code",
   "execution_count": null,
   "metadata": {},
   "outputs": [],
   "source": [
    "# Visualiza\n",
    "vindexed_df_suppply_chain.show(5, False)"
   ]
  },
  {
   "cell_type": "code",
   "execution_count": null,
   "metadata": {},
   "outputs": [],
   "source": [
    "vindexed_df_suppply_chain.columns"
   ]
  },
  {
   "cell_type": "code",
   "execution_count": null,
   "metadata": {},
   "outputs": [],
   "source": [
    "# Prepara o dataset final\n",
    "dataset_final = vindexed_df_suppply_chain.drop('Customer Country',\n",
    "                                               'Customer State',\n",
    "                                               'Department Name',\n",
    "                                               'Order City',\n",
    "                                               'region',\n",
    "                                               'Order Country',\n",
    "                                               'order date (DateOrders)',\n",
    "                                               'Order Item Discount',\n",
    "                                               'Late_delivery_risk',\n",
    "                                               'Order Item Product Price',\n",
    "                                               'Order Item Profit Ratio',\n",
    "                                               'Order Item Quantity',\n",
    "                                               'Sales',\n",
    "                                               'Order Item Total',\n",
    "                                               'Order Profit Per Order',\n",
    "                                               'Order Region',\n",
    "                                               'Order State',\n",
    "                                               'Order Status',\n",
    "                                               'Product Name',\n",
    "                                               'Shipping Mode',\n",
    "                                               'Customer Name')"
   ]
  },
  {
   "cell_type": "code",
   "execution_count": null,
   "metadata": {},
   "outputs": [],
   "source": [
    "# Visualiza\n",
    "dataset_final.show(5, False)"
   ]
  },
  {
   "cell_type": "markdown",
   "metadata": {},
   "source": [
    "A coluna Risk é a variável target e a coluna features é um vetor contendo a indexação das variáveis de entrada."
   ]
  },
  {
   "cell_type": "markdown",
   "metadata": {},
   "source": [
    "### Treinamento do Modelo\n",
    "\n",
    "https://spark.apache.org/docs/latest/ml-classification-regression.html#decision-tree-classifier"
   ]
  },
  {
   "cell_type": "code",
   "execution_count": null,
   "metadata": {},
   "outputs": [],
   "source": [
    "# Divide os dados em treino e teste\n",
    "(dados_treino, dados_teste) = dataset_final.randomSplit([0.8, 0.2], 42)"
   ]
  },
  {
   "cell_type": "code",
   "execution_count": null,
   "metadata": {},
   "outputs": [],
   "source": [
    "dados_treino"
   ]
  },
  {
   "cell_type": "code",
   "execution_count": null,
   "metadata": {},
   "outputs": [],
   "source": [
    "dados_treino.printSchema()"
   ]
  },
  {
   "cell_type": "code",
   "execution_count": null,
   "metadata": {},
   "outputs": [],
   "source": [
    "# Cria o modelo\n",
    "obj_modelo = DecisionTreeClassifier(labelCol = \"Risk\", \n",
    "                                    featuresCol = \"features\", \n",
    "                                    impurity = 'gini')"
   ]
  },
  {
   "cell_type": "code",
   "execution_count": null,
   "metadata": {},
   "outputs": [],
   "source": [
    "# Treina o modelo\n",
    "modelo_v1 = obj_modelo.fit(dados_treino)"
   ]
  },
  {
   "cell_type": "code",
   "execution_count": null,
   "metadata": {},
   "outputs": [],
   "source": [
    "# Previsões com dados de teste\n",
    "previsoes = modelo_v1.transform(dados_teste)"
   ]
  },
  {
   "cell_type": "code",
   "execution_count": null,
   "metadata": {},
   "outputs": [],
   "source": [
    "# Visualiza\n",
    "previsoes.show(10, False)"
   ]
  },
  {
   "cell_type": "markdown",
   "metadata": {},
   "source": [
    "### Avaliação do Modelo\n",
    "\n",
    "https://spark.apache.org/docs/latest/api/python/reference/api/pyspark.ml.evaluation.MulticlassClassificationEvaluator.html"
   ]
  },
  {
   "cell_type": "code",
   "execution_count": null,
   "metadata": {},
   "outputs": [],
   "source": [
    "# Cria o avaliador\n",
    "avaliador = MulticlassClassificationEvaluator(labelCol = \"Risk\", \n",
    "                                              predictionCol = \"prediction\", \n",
    "                                              metricName  = \"accuracy\")"
   ]
  },
  {
   "cell_type": "code",
   "execution_count": null,
   "metadata": {},
   "outputs": [],
   "source": [
    "# Calcula a acurácia\n",
    "acc = avaliador.evaluate(previsoes)"
   ]
  },
  {
   "cell_type": "code",
   "execution_count": null,
   "metadata": {},
   "outputs": [],
   "source": [
    "print(\"Acurácia do Modelo = %g \" % (acc))"
   ]
  },
  {
   "cell_type": "code",
   "execution_count": null,
   "metadata": {},
   "outputs": [],
   "source": [
    "print('Árvore do Modelo de Classificação:\\n')\n",
    "print(modelo_v1.toDebugString)"
   ]
  },
  {
   "cell_type": "markdown",
   "metadata": {},
   "source": [
    "# Fim"
   ]
  },
  {
   "cell_type": "code",
   "execution_count": null,
   "metadata": {},
   "outputs": [],
   "source": []
  },
  {
   "cell_type": "code",
   "execution_count": null,
   "metadata": {},
   "outputs": [],
   "source": []
  },
  {
   "cell_type": "code",
   "execution_count": null,
   "metadata": {},
   "outputs": [],
   "source": []
  }
 ],
 "metadata": {
  "kernelspec": {
   "display_name": "Python 3 (ipykernel)",
   "language": "python",
   "name": "python3"
  },
  "language_info": {
   "codemirror_mode": {
    "name": "ipython",
    "version": 3
   },
   "file_extension": ".py",
   "mimetype": "text/x-python",
   "name": "python",
   "nbconvert_exporter": "python",
   "pygments_lexer": "ipython3",
   "version": "3.11.11"
  }
 },
 "nbformat": 4,
 "nbformat_minor": 4
}
